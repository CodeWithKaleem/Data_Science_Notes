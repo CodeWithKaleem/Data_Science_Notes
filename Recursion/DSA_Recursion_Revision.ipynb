{
  "nbformat": 4,
  "nbformat_minor": 0,
  "metadata": {
    "colab": {
      "provenance": []
    },
    "kernelspec": {
      "name": "python3",
      "display_name": "Python 3"
    },
    "language_info": {
      "name": "python"
    }
  },
  "cells": [
    {
      "cell_type": "code",
      "execution_count": null,
      "metadata": {
        "id": "afmMIE0rvQk5"
      },
      "outputs": [],
      "source": [
        "def printRec(arr,start_index):\n",
        "  # Base condition\n",
        "  if start_index >= len(arr):\n",
        "    return\n",
        "\n",
        "  # Logic\n",
        "  print(arr[start_index])\n",
        "\n",
        "  # Recursive call\n",
        "  printRec(arr,start_index + 1)\n",
        "\n",
        "\n"
      ]
    },
    {
      "cell_type": "code",
      "source": [
        "printRec([1,2,3],0)"
      ],
      "metadata": {
        "colab": {
          "base_uri": "https://localhost:8080/"
        },
        "id": "jlO5qpnMww8I",
        "outputId": "e913bb44-dc5b-4afc-ff72-4a0104564ae8"
      },
      "execution_count": null,
      "outputs": [
        {
          "output_type": "stream",
          "name": "stdout",
          "text": [
            "1\n",
            "2\n",
            "3\n"
          ]
        }
      ]
    },
    {
      "cell_type": "code",
      "source": [
        "def printRec(arr,start_index):\n",
        "  # Base condition\n",
        "  if start_index >= len(arr):\n",
        "    return\n",
        "\n",
        "  # Recursive call\n",
        "  printRec(arr,start_index + 1)\n",
        "\n",
        "  # Logic\n",
        "  print(arr[start_index])\n",
        "\n",
        "\n"
      ],
      "metadata": {
        "id": "N-CG2AHcw2w4"
      },
      "execution_count": null,
      "outputs": []
    },
    {
      "cell_type": "code",
      "source": [
        "printRec([1,2,3],0)"
      ],
      "metadata": {
        "colab": {
          "base_uri": "https://localhost:8080/"
        },
        "id": "WNHtqBYD4Noj",
        "outputId": "af8a26ff-c569-49a7-87b2-a063479ace01"
      },
      "execution_count": null,
      "outputs": [
        {
          "output_type": "stream",
          "name": "stdout",
          "text": [
            "3\n",
            "2\n",
            "1\n"
          ]
        }
      ]
    },
    {
      "cell_type": "code",
      "source": [
        "\n",
        "def find_smallest(arr,sI):\n",
        "  if sI>= len(arr):\n",
        "    return 99999999\n",
        "\n",
        "  return min(arr[sI],find_smallest(arr,sI+1))\n",
        "\n"
      ],
      "metadata": {
        "id": "BllEe5AQ4TWM"
      },
      "execution_count": null,
      "outputs": []
    },
    {
      "cell_type": "code",
      "source": [
        "find_smallest([3,5,2,1,4],0)"
      ],
      "metadata": {
        "colab": {
          "base_uri": "https://localhost:8080/"
        },
        "id": "A2eYeRLX5IDA",
        "outputId": "a904c0cc-5059-45c2-a893-61be8732b3dc"
      },
      "execution_count": null,
      "outputs": [
        {
          "output_type": "execute_result",
          "data": {
            "text/plain": [
              "1"
            ]
          },
          "metadata": {},
          "execution_count": 31
        }
      ]
    },
    {
      "cell_type": "code",
      "source": [
        "# Tower of Hanoi\n",
        "def moves(n,s,d,a):\n",
        "  #Base condition\n",
        "  if n==1:\n",
        "    return 1\n",
        "\n",
        "  return moves(n-1,s,a,d) + 1 + moves(n-1,a,d,s)"
      ],
      "metadata": {
        "id": "dfn-_Sqn5MOk"
      },
      "execution_count": null,
      "outputs": []
    },
    {
      "cell_type": "code",
      "source": [
        "print(moves(1,'s','d','a'))\n",
        "print(moves(2,'s','d','a'))\n",
        "print(moves(3,'s','d','a'))\n",
        "print(moves(4,'s','d','a'))"
      ],
      "metadata": {
        "colab": {
          "base_uri": "https://localhost:8080/"
        },
        "id": "d765YlJKLoHa",
        "outputId": "372ffff7-9742-4cdb-c26d-9e1e9814893e"
      },
      "execution_count": null,
      "outputs": [
        {
          "output_type": "stream",
          "name": "stdout",
          "text": [
            "1\n",
            "3\n",
            "7\n",
            "15\n"
          ]
        }
      ]
    },
    {
      "cell_type": "code",
      "source": [
        "# Assignment problem\n",
        "def tower_of_hanoi(n,a,c,b):\n",
        "  if n==1:\n",
        "    return 1\n",
        "\n",
        "  return tower_of_hanoi(n-1,a,b,c) + 1 + tower_of_hanoi(n-1,b,c,a)"
      ],
      "metadata": {
        "id": "oznh5lrq_sLD"
      },
      "execution_count": null,
      "outputs": []
    },
    {
      "cell_type": "code",
      "source": [
        "print(tower_of_hanoi(3,'a','c','b'))"
      ],
      "metadata": {
        "colab": {
          "base_uri": "https://localhost:8080/"
        },
        "id": "HfcebabVAUgM",
        "outputId": "8a347d1f-d1c1-41af-d4ce-162b984a4834"
      },
      "execution_count": null,
      "outputs": [
        {
          "output_type": "stream",
          "name": "stdout",
          "text": [
            "7\n"
          ]
        }
      ]
    },
    {
      "cell_type": "code",
      "source": [
        "def linear_search(arr,num,sI):\n",
        "  # Base condition\n",
        "  if sI>=len(arr):\n",
        "    return -1\n",
        "  # logic\n",
        "  if arr[sI]==num:\n",
        "    return sI\n",
        "  # recursive call\n",
        "  else:\n",
        "    return linear_search(arr,num,sI+1)"
      ],
      "metadata": {
        "id": "GID5Dk9PQVfF"
      },
      "execution_count": null,
      "outputs": []
    },
    {
      "cell_type": "code",
      "source": [
        "print(linear_search([1,2,3,4],3,0))"
      ],
      "metadata": {
        "id": "UXpoIQlxLvHI",
        "colab": {
          "base_uri": "https://localhost:8080/"
        },
        "outputId": "8a4162d6-7a6f-4445-ce55-9f0655973718"
      },
      "execution_count": null,
      "outputs": [
        {
          "output_type": "stream",
          "name": "stdout",
          "text": [
            "2\n"
          ]
        }
      ]
    },
    {
      "cell_type": "code",
      "source": [
        "def binary_search(arr,num,sI,lI):\n",
        "  # Base condition\n",
        "  if sI>=lI:\n",
        "    return -1\n",
        "\n",
        "  # logic\n",
        "  mid = int(sI + (lI - sI)/2)\n",
        "  if arr[mid]==num:\n",
        "    return mid\n",
        "  elif arr[mid]>num:\n",
        "    return binary_search(arr,num,sI,mid-1)\n",
        "  elif arr[mid]<num:\n",
        "    return binary_search(arr,num,mid+1,lI)\n",
        "\n"
      ],
      "metadata": {
        "id": "rGym0JsmQ6kf"
      },
      "execution_count": null,
      "outputs": []
    },
    {
      "cell_type": "code",
      "source": [
        "print(binary_search([1,2,3,4,5],3,0,3))"
      ],
      "metadata": {
        "colab": {
          "base_uri": "https://localhost:8080/"
        },
        "id": "zIpV8iq-XyMi",
        "outputId": "3f4ca346-079d-441c-e61e-d46408dd5f05"
      },
      "execution_count": null,
      "outputs": [
        {
          "output_type": "stream",
          "name": "stdout",
          "text": [
            "2\n"
          ]
        }
      ]
    },
    {
      "cell_type": "code",
      "source": [
        "def reverse(arr):\n",
        "  i = 0\n",
        "  j = len(arr)-1\n",
        "\n",
        "  while(i<j):\n",
        "    arr[i],arr[j]=arr[j],arr[i]\n",
        "    i+=1\n",
        "    j-=1\n",
        "\n",
        "\n",
        "arr = [1,2,3,4,5]\n",
        "reverse(arr)\n",
        "print(arr)\n",
        "\n"
      ],
      "metadata": {
        "id": "kwLGKmDsX6DR",
        "colab": {
          "base_uri": "https://localhost:8080/"
        },
        "outputId": "feec229e-2fa0-4b4e-a0c7-d8e0adfc304c"
      },
      "execution_count": null,
      "outputs": [
        {
          "output_type": "stream",
          "name": "stdout",
          "text": [
            "[5, 4, 3, 2, 1]\n"
          ]
        }
      ]
    },
    {
      "cell_type": "code",
      "source": [
        "def Reverse_rec(arr,left,right):\n",
        "  if left>=right:\n",
        "    return\n",
        "\n",
        "  else:\n",
        "    arr[left],arr[right]= arr[right],arr[left]\n",
        "    Reverse_rec(arr,left+1,right-1)\n"
      ],
      "metadata": {
        "id": "Z4e9u5-lmYo8"
      },
      "execution_count": null,
      "outputs": []
    },
    {
      "cell_type": "code",
      "source": [
        "arr = [1,2,3,4]\n",
        "Reverse_rec(arr,0,len(arr)-1)\n",
        "print(arr)"
      ],
      "metadata": {
        "colab": {
          "base_uri": "https://localhost:8080/"
        },
        "id": "syQcS6O-mxgd",
        "outputId": "abc4394e-b4c5-46d9-dbc9-39be7bc8b837"
      },
      "execution_count": null,
      "outputs": [
        {
          "output_type": "stream",
          "name": "stdout",
          "text": [
            "[4, 3, 2, 1]\n"
          ]
        }
      ]
    },
    {
      "cell_type": "code",
      "source": [
        "def ispalindrome(arr):\n",
        "  left = 0\n",
        "  right = len(arr)-1\n",
        "\n",
        "  while(left<right):\n",
        "    if arr[left]!=arr[right]:\n",
        "      return False\n",
        "    else:\n",
        "      left+=1\n",
        "      right-=1\n",
        "  return True"
      ],
      "metadata": {
        "id": "z-eTUhhJsZ8t"
      },
      "execution_count": null,
      "outputs": []
    },
    {
      "cell_type": "code",
      "source": [
        "arr = [1,2,3,3,2,1]\n",
        "arr1 = [1,2,3]\n",
        "arr4 = [1,2,1]\n",
        "\n",
        "print(ispalindrome(arr))\n",
        "print(ispalindrome(arr1))\n",
        "print(ispalindrome(arr4))"
      ],
      "metadata": {
        "colab": {
          "base_uri": "https://localhost:8080/"
        },
        "id": "eOlrsW49rNQy",
        "outputId": "7e98685c-6e33-42dd-8f63-8211f2431f31"
      },
      "execution_count": null,
      "outputs": [
        {
          "output_type": "stream",
          "name": "stdout",
          "text": [
            "True\n",
            "False\n",
            "True\n"
          ]
        }
      ]
    },
    {
      "cell_type": "code",
      "source": [
        "def rotate_array(arr,k):\n",
        "  k = k%len(arr)\n",
        "  for i in range(k):\n",
        "    prev = arr[0]\n",
        "    curr = arr[0]\n",
        "    arr[0]= arr[len(arr)-1]\n",
        "    j = 1\n",
        "    while(j<len(arr)):\n",
        "      curr = arr[j]\n",
        "      arr[j]= prev\n",
        "      prev = curr\n",
        "      j+=1\n",
        "\n"
      ],
      "metadata": {
        "id": "kFKQEe9Cqs52"
      },
      "execution_count": null,
      "outputs": []
    },
    {
      "cell_type": "code",
      "source": [
        "arr = [1,2,3,4,5]\n",
        "rotate_array(arr,2)\n",
        "print(arr)"
      ],
      "metadata": {
        "colab": {
          "base_uri": "https://localhost:8080/"
        },
        "id": "VXHosFhru5rg",
        "outputId": "b0080c0d-0c41-466a-80a6-c1d2ab30508e"
      },
      "execution_count": null,
      "outputs": [
        {
          "output_type": "stream",
          "name": "stdout",
          "text": [
            "[4, 5, 1, 2, 3]\n"
          ]
        }
      ]
    },
    {
      "cell_type": "code",
      "source": [
        "def rotate_k_times(arr,k):\n",
        "  k = k%len(arr)\n",
        "\n",
        "  # Reverse the entire array\n",
        "  Reverse_rec(arr,0,len(arr)-1)\n",
        "\n",
        "  # Reverse the k elements\n",
        "  Reverse_rec(arr,0,k-1)\n",
        "\n",
        "  # Reverse the n-k elements\n",
        "  Reverse_rec(arr,k,len(arr)-1)\n",
        "\n",
        "arr = [1,2,3,4]\n",
        "rotate_k_times(arr,2)\n",
        "print(arr)"
      ],
      "metadata": {
        "colab": {
          "base_uri": "https://localhost:8080/"
        },
        "id": "atZDkxNLvADB",
        "outputId": "f2fd34d0-bbcf-4f9b-cc50-1fa95020daaa"
      },
      "execution_count": null,
      "outputs": [
        {
          "output_type": "stream",
          "name": "stdout",
          "text": [
            "[3, 4, 1, 2]\n"
          ]
        }
      ]
    }
  ]
}