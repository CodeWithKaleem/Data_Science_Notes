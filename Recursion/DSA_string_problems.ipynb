{
  "nbformat": 4,
  "nbformat_minor": 0,
  "metadata": {
    "colab": {
      "provenance": []
    },
    "kernelspec": {
      "name": "python3",
      "display_name": "Python 3"
    },
    "language_info": {
      "name": "python"
    }
  },
  "cells": [
    {
      "cell_type": "code",
      "execution_count": null,
      "metadata": {
        "colab": {
          "base_uri": "https://localhost:8080/"
        },
        "id": "MUcwyZJUTLsy",
        "outputId": "c5248e60-da09-494a-ebc6-bc2f75575930"
      },
      "outputs": [
        {
          "output_type": "stream",
          "name": "stdout",
          "text": [
            "ABC\n",
            "ACB\n",
            "BAC\n",
            "BCA\n",
            "CBA\n",
            "CAB\n"
          ]
        }
      ],
      "source": [
        "def permute(arr,left,right):\n",
        "  # Base condition\n",
        "  if left==right:\n",
        "    print(\"\".join(arr))\n",
        "    return\n",
        "\n",
        "  else:\n",
        "    for i in range(left,right+1):\n",
        "      arr[left],arr[i]=arr[i],arr[left]\n",
        "      permute(arr,left+1,right)\n",
        "      arr[left],arr[i]=arr[i],arr[left]\n",
        "\n",
        "permute(list(\"ABC\"),0,2)"
      ]
    }
  ]
}