{
  "nbformat": 4,
  "nbformat_minor": 0,
  "metadata": {
    "colab": {
      "provenance": []
    },
    "kernelspec": {
      "name": "python3",
      "display_name": "Python 3"
    },
    "language_info": {
      "name": "python"
    }
  },
  "cells": [
    {
      "cell_type": "code",
      "execution_count": null,
      "metadata": {
        "id": "85dM6gfGq6gg"
      },
      "outputs": [],
      "source": [
        "# Creating stack using array\n",
        "class Stack:\n",
        "\n",
        "  def __init__(self,capacity):\n",
        "    self.top = -1\n",
        "    self.arr = [None]* capacity\n",
        "    self.capacity = capacity\n",
        "\n",
        "  def is_empty(self):\n",
        "    return self.top == -1\n",
        "\n",
        "  def is_full(self):\n",
        "    return self.top == self.capacity - 1\n",
        "\n",
        "  def push(self, data):\n",
        "    # check if it's full\n",
        "    if self.is_full():\n",
        "      print('Stack Overflow')\n",
        "      return\n",
        "    self.top += 1\n",
        "    self.arr[self.top] = data\n",
        "\n",
        "  def pop(self):\n",
        "    # check if stack is empty\n",
        "    if self.is_empty():\n",
        "      print('Stack Underflow')\n",
        "      return\n",
        "    data = self.arr[self.top]\n",
        "\n",
        "    self.top -= 1\n",
        "    return data\n",
        "\n",
        "  def traverse(self):\n",
        "    for i in self.arr:\n",
        "      print(i, end=',')\n",
        "\n",
        "  def peek(self):\n",
        "    # check if it's empty\n",
        "    if self.is_empty():\n",
        "      print('Stack Underflow')\n",
        "      return\n",
        "\n",
        "    data = self.arr[self.top]\n",
        "    return data\n"
      ]
    },
    {
      "cell_type": "code",
      "source": [
        "stack = Stack(5)"
      ],
      "metadata": {
        "id": "wJSSTOTn5-Ny"
      },
      "execution_count": null,
      "outputs": []
    },
    {
      "cell_type": "code",
      "source": [
        "print(stack.is_empty())"
      ],
      "metadata": {
        "colab": {
          "base_uri": "https://localhost:8080/"
        },
        "id": "3XgseW6Y6Ccz",
        "outputId": "7ee10a86-b78f-4b0c-fa95-06b40c82d941"
      },
      "execution_count": null,
      "outputs": [
        {
          "output_type": "stream",
          "name": "stdout",
          "text": [
            "True\n"
          ]
        }
      ]
    },
    {
      "cell_type": "code",
      "source": [
        "stack.push(3)\n",
        "stack.push(4)\n",
        "stack.push(5)"
      ],
      "metadata": {
        "id": "OMF-cEtM6Kl-"
      },
      "execution_count": null,
      "outputs": []
    },
    {
      "cell_type": "code",
      "source": [
        "print(stack.traverse())"
      ],
      "metadata": {
        "colab": {
          "base_uri": "https://localhost:8080/"
        },
        "id": "WvKKHuyT6X8y",
        "outputId": "1cc418a9-11fc-43a5-d487-5e46472959d5"
      },
      "execution_count": null,
      "outputs": [
        {
          "output_type": "stream",
          "name": "stdout",
          "text": [
            "3,4,5,None,None,None\n"
          ]
        }
      ]
    },
    {
      "cell_type": "code",
      "source": [
        "print(stack.pop())"
      ],
      "metadata": {
        "colab": {
          "base_uri": "https://localhost:8080/"
        },
        "id": "TTIHzU3Z6VGW",
        "outputId": "b5a2d9c7-9a80-43fa-baa1-dddf474ba89d"
      },
      "execution_count": null,
      "outputs": [
        {
          "output_type": "stream",
          "name": "stdout",
          "text": [
            "5\n"
          ]
        }
      ]
    },
    {
      "cell_type": "code",
      "source": [
        "print(stack.peek())"
      ],
      "metadata": {
        "colab": {
          "base_uri": "https://localhost:8080/"
        },
        "id": "wai2ZT5j7of4",
        "outputId": "a0ad9f56-b217-493c-eb04-4fc75bd09e94"
      },
      "execution_count": null,
      "outputs": [
        {
          "output_type": "stream",
          "name": "stdout",
          "text": [
            "4\n"
          ]
        }
      ]
    },
    {
      "cell_type": "code",
      "source": [
        "# Creating stack using linked list\n",
        "class Node:\n",
        "\n",
        "  def __init__(self,data,next=None):\n",
        "    self.data = data\n",
        "    self.next = next\n",
        "\n",
        "  def getdata(self):\n",
        "    return self.data\n",
        "\n",
        "  def setdata(self,data):\n",
        "    self.data = data\n",
        "\n",
        "  def setnext(self,next):\n",
        "    self.next = next\n",
        "\n",
        "  def getnext(self):\n",
        "    return self.next"
      ],
      "metadata": {
        "id": "8xqxQQqG7om2"
      },
      "execution_count": 2,
      "outputs": []
    },
    {
      "cell_type": "code",
      "source": [
        "class StackLL:\n",
        "\n",
        "  def __init__(self):\n",
        "    self.head = None\n",
        "\n",
        "  def is_empty(self):\n",
        "    return self.head == None\n",
        "\n",
        "  def push(self,data):\n",
        "    node = Node(data) # Creating the new node\n",
        "    node.setnext(self.head)\n",
        "    self.head = node\n",
        "\n",
        "  def pop(self):\n",
        "    if self.is_empty():\n",
        "      print('Stack Underflow')\n",
        "      return\n",
        "\n",
        "    data = self.head.getdata()\n",
        "    self.head = self.head.getnext()\n",
        "    return data\n",
        "\n",
        "  def peek(self):\n",
        "    if self.is_empty():\n",
        "      print('Stack Underflow')\n",
        "      return\n",
        "\n",
        "    data = self.head.getdata()\n",
        "    return data\n",
        "\n",
        "  def size(self):\n",
        "    temp = self.head\n",
        "    size = 0\n",
        "    while(temp):\n",
        "      size +=1\n",
        "      temp = temp.getnext()\n",
        "    return size\n",
        "\n",
        "  def traverse(self):\n",
        "    temp = self.head\n",
        "    while(temp):\n",
        "      print(temp.getdata(), end = '->')\n",
        "      temp = temp.getnext()\n"
      ],
      "metadata": {
        "id": "-RBKjUd9juq0"
      },
      "execution_count": 3,
      "outputs": []
    },
    {
      "cell_type": "code",
      "source": [
        "stack = StackLL()\n",
        "\n",
        "stack.push(1)\n",
        "stack.push(2)\n",
        "stack.push(3)\n",
        "stack.push(4)\n",
        "stack.push(5)"
      ],
      "metadata": {
        "id": "ZX43UBj6jut6"
      },
      "execution_count": 10,
      "outputs": []
    },
    {
      "cell_type": "code",
      "source": [
        "stack.traverse()"
      ],
      "metadata": {
        "colab": {
          "base_uri": "https://localhost:8080/"
        },
        "id": "gj8q9kZRjuw6",
        "outputId": "ed7ed4a2-e713-4491-9954-6aa017c20dd9"
      },
      "execution_count": null,
      "outputs": [
        {
          "output_type": "stream",
          "name": "stdout",
          "text": [
            "3->2->1->"
          ]
        }
      ]
    },
    {
      "cell_type": "code",
      "source": [
        "stack.pop()"
      ],
      "metadata": {
        "colab": {
          "base_uri": "https://localhost:8080/"
        },
        "id": "ST8G5ERyt0Kj",
        "outputId": "8611d08e-10b1-4f30-bb8b-b6c01c0d97df"
      },
      "execution_count": null,
      "outputs": [
        {
          "output_type": "execute_result",
          "data": {
            "text/plain": [
              "3"
            ]
          },
          "metadata": {},
          "execution_count": 11
        }
      ]
    },
    {
      "cell_type": "code",
      "source": [
        "stack.peek()"
      ],
      "metadata": {
        "colab": {
          "base_uri": "https://localhost:8080/"
        },
        "id": "nkknM6Dat0OI",
        "outputId": "a021228e-9a2c-4c03-abeb-c94d5a8bcf4d"
      },
      "execution_count": null,
      "outputs": [
        {
          "output_type": "execute_result",
          "data": {
            "text/plain": [
              "2"
            ]
          },
          "metadata": {},
          "execution_count": 12
        }
      ]
    },
    {
      "cell_type": "code",
      "source": [
        "# Question : To find whether the brackets are balanced\n",
        "def are_brackets_balanced(exp):\n",
        "\n",
        "  # create the stack\n",
        "  stack = StackLL()\n",
        "\n",
        "  # iterate through the exp\n",
        "  for c in exp:\n",
        "    if c in ['(','{','[']:\n",
        "      stack.push(c)\n",
        "    else:\n",
        "      if stack.is_empty():\n",
        "        return False\n",
        "      char = stack.pop()\n",
        "      if char == '(' and c!=')':\n",
        "        return False\n",
        "      elif char == '{' and c!='}':\n",
        "        return False\n",
        "      elif char == '[' and c!=']':\n",
        "        return False\n",
        "\n",
        "  return stack.is_empty()"
      ],
      "metadata": {
        "id": "qhnKHHTOt0RQ"
      },
      "execution_count": null,
      "outputs": []
    },
    {
      "cell_type": "code",
      "source": [
        "are_brackets_balanced('({{[]}})')"
      ],
      "metadata": {
        "colab": {
          "base_uri": "https://localhost:8080/"
        },
        "id": "bw63gM-LwhDr",
        "outputId": "b3b86ff3-fbb8-4104-a888-220514b2f88c"
      },
      "execution_count": null,
      "outputs": [
        {
          "output_type": "execute_result",
          "data": {
            "text/plain": [
              "True"
            ]
          },
          "metadata": {},
          "execution_count": 14
        }
      ]
    },
    {
      "cell_type": "code",
      "source": [
        "are_brackets_balanced('({{[]]}})')"
      ],
      "metadata": {
        "colab": {
          "base_uri": "https://localhost:8080/"
        },
        "id": "Cty4Vbw9whGz",
        "outputId": "c3956b70-fb52-4909-f4b0-94a7b179795f"
      },
      "execution_count": null,
      "outputs": [
        {
          "output_type": "execute_result",
          "data": {
            "text/plain": [
              "False"
            ]
          },
          "metadata": {},
          "execution_count": 15
        }
      ]
    },
    {
      "cell_type": "code",
      "source": [
        "# Assignment Problem : Delete the middle element of the stack using the stack methods push pop etc.\n",
        "# Approach 1 : using temp stack\n",
        "def delete_middle_element(stack):\n",
        "\n",
        "  s2 = StackLL()\n",
        "\n",
        "  size = stack.size()\n",
        "\n",
        "  count = 0\n",
        "\n",
        "  while(count < int(size/2)):\n",
        "    s2.push(stack.pop())\n",
        "    count +=1\n",
        "\n",
        "  stack.pop()\n",
        "\n",
        "  while (not s2.is_empty()):\n",
        "    stack.push(s2.pop())\n",
        "\n",
        "\n",
        "delete_middle_element(stack)"
      ],
      "metadata": {
        "id": "UxDqSXQOwhKG",
        "colab": {
          "base_uri": "https://localhost:8080/"
        },
        "outputId": "d46f72ec-81fc-421d-8091-2485e684d694"
      },
      "execution_count": 11,
      "outputs": [
        {
          "output_type": "stream",
          "name": "stdout",
          "text": [
            "5->4->2->1->"
          ]
        }
      ]
    },
    {
      "cell_type": "code",
      "source": [
        "# Delete the middle element in stack using recursion\n",
        "def remove_middle_element(stack,sizeOfstack,curr):\n",
        "\n",
        "  # Base condition\n",
        "  if (stack.is_empty() or curr == sizeOfstack):\n",
        "    return\n",
        "\n",
        "  # Remove the current item\n",
        "  x = stack.pop()\n",
        "\n",
        "  # Recursive call\n",
        "  remove_middle_element(stack,sizeOfstack,curr+1)\n",
        "\n",
        "  # Put the item back\n",
        "  if (curr != int(sizeOfstack/2)):\n",
        "    stack.push(x)"
      ],
      "metadata": {
        "id": "KTQBKQY0whNb"
      },
      "execution_count": 12,
      "outputs": []
    },
    {
      "cell_type": "code",
      "source": [
        "s = StackLL()\n",
        "s.push(5)\n",
        "s.push(7)\n",
        "s.push(4)\n",
        "s.push(3)\n",
        "s.push(1)\n",
        "\n",
        "size = s.size()"
      ],
      "metadata": {
        "id": "wh-1KMR7enAq"
      },
      "execution_count": 15,
      "outputs": []
    },
    {
      "cell_type": "code",
      "source": [
        "s.traverse()"
      ],
      "metadata": {
        "colab": {
          "base_uri": "https://localhost:8080/"
        },
        "id": "u2y7Twz3enHh",
        "outputId": "b2c11ec4-bb93-407a-a604-f3d3c0f3dfff"
      },
      "execution_count": 16,
      "outputs": [
        {
          "output_type": "stream",
          "name": "stdout",
          "text": [
            "1->3->4->7->5->"
          ]
        }
      ]
    },
    {
      "cell_type": "code",
      "source": [
        "remove_middle_element(s,size,0)"
      ],
      "metadata": {
        "id": "RwXR9JjLenEA"
      },
      "execution_count": 17,
      "outputs": []
    },
    {
      "cell_type": "code",
      "source": [
        "s.traverse()"
      ],
      "metadata": {
        "colab": {
          "base_uri": "https://localhost:8080/"
        },
        "id": "ocXKKTFxgaDp",
        "outputId": "7a11d078-b7ae-4963-9383-293efd58e8ef"
      },
      "execution_count": 18,
      "outputs": [
        {
          "output_type": "stream",
          "name": "stdout",
          "text": [
            "1->3->7->5->"
          ]
        }
      ]
    },
    {
      "cell_type": "code",
      "source": [],
      "metadata": {
        "id": "1G6Cx42qgZ8C"
      },
      "execution_count": null,
      "outputs": []
    },
    {
      "cell_type": "code",
      "source": [],
      "metadata": {
        "id": "1CcOiRx9gZww"
      },
      "execution_count": null,
      "outputs": []
    },
    {
      "cell_type": "code",
      "source": [
        "# Restart the video at 11:00"
      ],
      "metadata": {
        "id": "WzWtiy6I7ooE"
      },
      "execution_count": null,
      "outputs": []
    }
  ]
}