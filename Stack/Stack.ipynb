{
  "nbformat": 4,
  "nbformat_minor": 0,
  "metadata": {
    "colab": {
      "provenance": []
    },
    "kernelspec": {
      "name": "python3",
      "display_name": "Python 3"
    },
    "language_info": {
      "name": "python"
    }
  },
  "cells": [
    {
      "cell_type": "code",
      "execution_count": 30,
      "metadata": {
        "id": "85dM6gfGq6gg"
      },
      "outputs": [],
      "source": [
        "class Stack:\n",
        "\n",
        "  def __init__(self,capacity):\n",
        "    self.top = -1\n",
        "    self.arr = [None]* capacity\n",
        "    self.capacity = capacity\n",
        "\n",
        "  def is_empty(self):\n",
        "    return self.top == -1\n",
        "\n",
        "  def is_full(self):\n",
        "    return self.top == self.capacity - 1\n",
        "\n",
        "  def push(self, data):\n",
        "    # check if it's full\n",
        "    if self.is_full():\n",
        "      print('Stack Overflow')\n",
        "      return\n",
        "    self.top += 1\n",
        "    self.arr[self.top] = data\n",
        "\n",
        "  def pop(self):\n",
        "    # check if stack is empty\n",
        "    if self.is_empty():\n",
        "      print('Stack Underflow')\n",
        "      return\n",
        "    data = self.arr[self.top]\n",
        "\n",
        "    self.top -= 1\n",
        "    return data\n",
        "\n",
        "  def traverse(self):\n",
        "    for i in self.arr:\n",
        "      print(i, end=',')\n",
        "\n",
        "  def peek(self):\n",
        "    # check if it's empty\n",
        "    if self.is_empty():\n",
        "      print('Stack Underflow')\n",
        "      return\n",
        "\n",
        "    data = self.arr[self.top]\n",
        "    return data\n"
      ]
    },
    {
      "cell_type": "code",
      "source": [
        "stack = Stack(5)"
      ],
      "metadata": {
        "id": "wJSSTOTn5-Ny"
      },
      "execution_count": 31,
      "outputs": []
    },
    {
      "cell_type": "code",
      "source": [
        "print(stack.is_empty())"
      ],
      "metadata": {
        "colab": {
          "base_uri": "https://localhost:8080/"
        },
        "id": "3XgseW6Y6Ccz",
        "outputId": "7ee10a86-b78f-4b0c-fa95-06b40c82d941"
      },
      "execution_count": 32,
      "outputs": [
        {
          "output_type": "stream",
          "name": "stdout",
          "text": [
            "True\n"
          ]
        }
      ]
    },
    {
      "cell_type": "code",
      "source": [
        "stack.push(3)\n",
        "stack.push(4)\n",
        "stack.push(5)"
      ],
      "metadata": {
        "id": "OMF-cEtM6Kl-"
      },
      "execution_count": 33,
      "outputs": []
    },
    {
      "cell_type": "code",
      "source": [
        "print(stack.traverse())"
      ],
      "metadata": {
        "colab": {
          "base_uri": "https://localhost:8080/"
        },
        "id": "WvKKHuyT6X8y",
        "outputId": "1cc418a9-11fc-43a5-d487-5e46472959d5"
      },
      "execution_count": 34,
      "outputs": [
        {
          "output_type": "stream",
          "name": "stdout",
          "text": [
            "3,4,5,None,None,None\n"
          ]
        }
      ]
    },
    {
      "cell_type": "code",
      "source": [
        "print(stack.pop())"
      ],
      "metadata": {
        "colab": {
          "base_uri": "https://localhost:8080/"
        },
        "id": "TTIHzU3Z6VGW",
        "outputId": "b5a2d9c7-9a80-43fa-baa1-dddf474ba89d"
      },
      "execution_count": 35,
      "outputs": [
        {
          "output_type": "stream",
          "name": "stdout",
          "text": [
            "5\n"
          ]
        }
      ]
    },
    {
      "cell_type": "code",
      "source": [
        "print(stack.peek())"
      ],
      "metadata": {
        "colab": {
          "base_uri": "https://localhost:8080/"
        },
        "id": "wai2ZT5j7of4",
        "outputId": "a0ad9f56-b217-493c-eb04-4fc75bd09e94"
      },
      "execution_count": 36,
      "outputs": [
        {
          "output_type": "stream",
          "name": "stdout",
          "text": [
            "4\n"
          ]
        }
      ]
    },
    {
      "cell_type": "code",
      "source": [],
      "metadata": {
        "id": "8xqxQQqG7om2"
      },
      "execution_count": null,
      "outputs": []
    },
    {
      "cell_type": "code",
      "source": [
        "# Restart the video at 11:00"
      ],
      "metadata": {
        "id": "WzWtiy6I7ooE"
      },
      "execution_count": null,
      "outputs": []
    }
  ]
}