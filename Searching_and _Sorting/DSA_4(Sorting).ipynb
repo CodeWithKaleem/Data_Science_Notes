{
  "nbformat": 4,
  "nbformat_minor": 0,
  "metadata": {
    "colab": {
      "provenance": [],
      "collapsed_sections": [
        "HLyU2clJ0bmX"
      ]
    },
    "kernelspec": {
      "name": "python3",
      "display_name": "Python 3"
    },
    "language_info": {
      "name": "python"
    }
  },
  "cells": [
    {
      "cell_type": "markdown",
      "source": [
        "#Bubble sort"
      ],
      "metadata": {
        "id": "HLyU2clJ0bmX"
      }
    },
    {
      "cell_type": "code",
      "source": [
        "def bubble_sort(arr):\n",
        "  for i in range(len(arr)-1,0,-1):\n",
        "    for j in range(i):\n",
        "      if arr[j]>arr[j+1]:\n",
        "        arr[j],arr[j+1]=arr[j+1],arr[j]\n",
        "  return arr"
      ],
      "metadata": {
        "id": "4ZFCR8kdKMPi"
      },
      "execution_count": null,
      "outputs": []
    },
    {
      "cell_type": "code",
      "source": [
        "arr = [3,1,2,4,5]\n",
        "result = bubble_sort(arr)"
      ],
      "metadata": {
        "id": "Gil3J9bMKzaX"
      },
      "execution_count": null,
      "outputs": []
    },
    {
      "cell_type": "code",
      "source": [
        "print(result)"
      ],
      "metadata": {
        "colab": {
          "base_uri": "https://localhost:8080/"
        },
        "id": "PxCY0GXSK7YM",
        "outputId": "f56500fe-d0ae-4682-ddc3-8a5c974cbc5a"
      },
      "execution_count": null,
      "outputs": [
        {
          "output_type": "stream",
          "name": "stdout",
          "text": [
            "[1, 2, 3, 4, 5]\n"
          ]
        }
      ]
    },
    {
      "cell_type": "code",
      "source": [
        "def optimized_bubble_sort(arr):\n",
        "  for i in range(len(arr)-1,0,-1):\n",
        "    isSorted = True\n",
        "    for j in range(i):\n",
        "      if arr[j]>arr[j+1]:\n",
        "        isSorted = False\n",
        "        arr[j],arr[j+1]=arr[j+1],arr[j]\n",
        "\n",
        "    if isSorted:\n",
        "      print(\"Array is already sorted.\")\n",
        "      break"
      ],
      "metadata": {
        "id": "8KbnfCFJ0mx-"
      },
      "execution_count": null,
      "outputs": []
    },
    {
      "cell_type": "code",
      "source": [
        "arr=[1,2,3,5,4]\n",
        "optimized_bubble_sort(arr)\n",
        "print(arr)"
      ],
      "metadata": {
        "colab": {
          "base_uri": "https://localhost:8080/"
        },
        "id": "TwNABwe61FGX",
        "outputId": "72da6731-489a-4d2b-f697-9ee4b28cab42"
      },
      "execution_count": null,
      "outputs": [
        {
          "output_type": "stream",
          "name": "stdout",
          "text": [
            "Array is already sorted.\n",
            "[1, 2, 3, 4, 5]\n"
          ]
        }
      ]
    },
    {
      "cell_type": "code",
      "source": [
        "# check array is sorted or not ?\n",
        "\n",
        "def arr_issorted(arr):\n",
        "  isSorted = True\n",
        "  for i in range(len(arr)-1):\n",
        "    if arr[i]>arr[i+1]:\n",
        "      isSorted = False\n",
        "\n",
        "  if isSorted:\n",
        "    print(\"Array is sorted\")\n",
        "  else:\n",
        "    print(\"Array is not sorted\")\n"
      ],
      "metadata": {
        "id": "0ogJN7gnHK_7"
      },
      "execution_count": null,
      "outputs": []
    },
    {
      "cell_type": "code",
      "source": [
        "arr_issorted([1,2,3,4])\n",
        "arr_issorted([1,3,6,2])"
      ],
      "metadata": {
        "colab": {
          "base_uri": "https://localhost:8080/"
        },
        "id": "RYFQL3_0Hx1W",
        "outputId": "edf66365-9f1e-41de-dc8d-ac3cad367db4"
      },
      "execution_count": null,
      "outputs": [
        {
          "output_type": "stream",
          "name": "stdout",
          "text": [
            "Array is sorted\n",
            "Array is not sorted\n"
          ]
        }
      ]
    },
    {
      "cell_type": "markdown",
      "source": [
        "#Selection sort"
      ],
      "metadata": {
        "id": "nvECD7b8IWGJ"
      }
    },
    {
      "cell_type": "code",
      "source": [
        "def selection_sort(arr):\n",
        "  for i in range(len(arr)):\n",
        "    min = i\n",
        "    for j in range(i+1,len(arr)):\n",
        "      if arr[j]<arr[min]:\n",
        "        min = j\n",
        "\n",
        "    arr[i],arr[min]= arr[min],arr[i]\n",
        "\n"
      ],
      "metadata": {
        "id": "Sz0NgqUaIctm"
      },
      "execution_count": null,
      "outputs": []
    },
    {
      "cell_type": "code",
      "source": [
        "arr=[5,4,3,1]\n",
        "selection_sort(arr)\n",
        "print(arr)"
      ],
      "metadata": {
        "colab": {
          "base_uri": "https://localhost:8080/"
        },
        "id": "RZw3hpCmD6TS",
        "outputId": "83092797-5a49-4dc3-e401-0be676be223b"
      },
      "execution_count": null,
      "outputs": [
        {
          "output_type": "stream",
          "name": "stdout",
          "text": [
            "[1, 3, 4, 5]\n"
          ]
        }
      ]
    },
    {
      "cell_type": "markdown",
      "source": [
        "# Insertion sort"
      ],
      "metadata": {
        "id": "41iwPynAJK9j"
      }
    },
    {
      "cell_type": "code",
      "source": [
        "def insertion_sort(arr):\n",
        "  for i in range(len(arr)):\n",
        "    v = arr[i]\n",
        "    j = i\n",
        "    while(j>=1 and arr[j-1]>v):\n",
        "      arr[j]=arr[j-1]\n",
        "      j-=1\n",
        "    arr[j]=v"
      ],
      "metadata": {
        "id": "8tUqoHOBJQYs"
      },
      "execution_count": null,
      "outputs": []
    },
    {
      "cell_type": "code",
      "source": [
        "arr = [3,2,4,1,5]\n",
        "insertion_sort(arr)\n",
        "print(arr)"
      ],
      "metadata": {
        "colab": {
          "base_uri": "https://localhost:8080/"
        },
        "id": "dU6XWl7UYNAG",
        "outputId": "da3ccb05-bd66-41b3-fba5-7ef18cc9fc6c"
      },
      "execution_count": null,
      "outputs": [
        {
          "output_type": "stream",
          "name": "stdout",
          "text": [
            "[1, 2, 3, 4, 5]\n"
          ]
        }
      ]
    },
    {
      "cell_type": "markdown",
      "source": [
        "# Revision of all sortings"
      ],
      "metadata": {
        "id": "d2Gj2lPRYbkm"
      }
    },
    {
      "cell_type": "code",
      "source": [
        "def insert_sort(arr):\n",
        "  for i in range(len(arr)):\n",
        "    v = arr[i]\n",
        "    j = i\n",
        "    while(j>=1 and arr[j-1]>v):\n",
        "      arr[j]=arr[j-1]\n",
        "      j-=1\n",
        "    arr[j]=v"
      ],
      "metadata": {
        "id": "X0Vsbh0dYfJg"
      },
      "execution_count": null,
      "outputs": []
    },
    {
      "cell_type": "code",
      "source": [
        "arr = [3,4,2,1,5]\n",
        "insert_sort(arr)\n",
        "print(arr)"
      ],
      "metadata": {
        "colab": {
          "base_uri": "https://localhost:8080/"
        },
        "id": "uAEuR5UY2Tqs",
        "outputId": "82190db1-a655-4646-d707-00a77e43c98a"
      },
      "execution_count": null,
      "outputs": [
        {
          "output_type": "stream",
          "name": "stdout",
          "text": [
            "[1, 2, 3, 4, 5]\n"
          ]
        }
      ]
    },
    {
      "cell_type": "code",
      "source": [
        "def sel_sort(arr):\n",
        "  for i in range(len(arr)):\n",
        "    min = i\n",
        "    for j in range(i+1,len(arr)):\n",
        "      if arr[j]<arr[min]:\n",
        "        min = j\n",
        "    arr[i],arr[min]= arr[min],arr[i]\n"
      ],
      "metadata": {
        "id": "5rKN50PS2eGb"
      },
      "execution_count": null,
      "outputs": []
    },
    {
      "cell_type": "code",
      "source": [
        "arr = [3,4,2,1,5]\n",
        "sel_sort(arr)\n",
        "print(arr)"
      ],
      "metadata": {
        "colab": {
          "base_uri": "https://localhost:8080/"
        },
        "id": "FvBM4EiG3Nc4",
        "outputId": "2f5f1304-1ca0-48a9-bf30-c78c14ca1337"
      },
      "execution_count": null,
      "outputs": [
        {
          "output_type": "stream",
          "name": "stdout",
          "text": [
            "[1, 2, 3, 4, 5]\n"
          ]
        }
      ]
    },
    {
      "cell_type": "code",
      "source": [
        "def bub_sort(arr):\n",
        "  for i in range(len(arr)-1,0,-1):\n",
        "    for j in range(i):\n",
        "      if arr[j]>arr[j+1]:\n",
        "        arr[j],arr[j+1]=arr[j+1],arr[j]"
      ],
      "metadata": {
        "id": "C3tjCKdN3SKr"
      },
      "execution_count": null,
      "outputs": []
    },
    {
      "cell_type": "code",
      "source": [
        "arr = [3,4,2,1,5]\n",
        "bub_sort(arr)\n",
        "print(arr)"
      ],
      "metadata": {
        "colab": {
          "base_uri": "https://localhost:8080/"
        },
        "id": "VWiPibQV3n9O",
        "outputId": "e103d086-3344-4dca-a7a7-1d1cb841090e"
      },
      "execution_count": null,
      "outputs": [
        {
          "output_type": "stream",
          "name": "stdout",
          "text": [
            "[1, 2, 3, 4, 5]\n"
          ]
        }
      ]
    },
    {
      "cell_type": "markdown",
      "source": [
        "# Binary search\n"
      ],
      "metadata": {
        "id": "fPEf-7v74o8h"
      }
    },
    {
      "cell_type": "code",
      "source": [
        "def binary_search(arr,target):\n",
        "  left = 0\n",
        "  right = len(arr)-1\n",
        "\n",
        "  while(left<=right):\n",
        "    mid = int(left + (right-left)/2)\n",
        "    if arr[mid]==target:\n",
        "      return mid\n",
        "    elif arr[mid]>target:\n",
        "      right = mid-1\n",
        "    else:\n",
        "      left = mid+1\n",
        "  return -1"
      ],
      "metadata": {
        "id": "JPg9IiEY4y14"
      },
      "execution_count": null,
      "outputs": []
    },
    {
      "cell_type": "code",
      "source": [
        "binary_search([1,2,3,4,5],2)"
      ],
      "metadata": {
        "colab": {
          "base_uri": "https://localhost:8080/"
        },
        "id": "YRqP6_tZ7pkG",
        "outputId": "00722ece-f6bd-4a44-87d5-596fdab8be55"
      },
      "execution_count": null,
      "outputs": [
        {
          "output_type": "execute_result",
          "data": {
            "text/plain": [
              "1"
            ]
          },
          "metadata": {},
          "execution_count": 15
        }
      ]
    },
    {
      "cell_type": "code",
      "source": [],
      "metadata": {
        "id": "sk9Kp2Dz7zTI"
      },
      "execution_count": null,
      "outputs": []
    }
  ]
}