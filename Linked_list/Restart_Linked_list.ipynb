{
  "nbformat": 4,
  "nbformat_minor": 0,
  "metadata": {
    "colab": {
      "provenance": []
    },
    "kernelspec": {
      "name": "python3",
      "display_name": "Python 3"
    },
    "language_info": {
      "name": "python"
    }
  },
  "cells": [
    {
      "cell_type": "code",
      "execution_count": null,
      "metadata": {
        "id": "SGUzJU2QQiqX"
      },
      "outputs": [],
      "source": [
        "# Creating the List node\n",
        "class Node :\n",
        "\n",
        "  def __init__(self,data,next=None):\n",
        "    self.data = data\n",
        "    self.next = next\n",
        "\n",
        "  # Method to set the data\n",
        "  def setdata(self,data):\n",
        "    self.data = data\n",
        "\n",
        "  # Method to get the data\n",
        "  def getdata(self):\n",
        "    return self.data\n",
        "\n",
        "  # Method to set the next\n",
        "  def setnext(self,next):\n",
        "    self.next = next\n",
        "\n",
        "  # Method to get the next\n",
        "  def getnext(self):\n",
        "    return self.next\n",
        "\n"
      ]
    },
    {
      "cell_type": "code",
      "source": [
        "# Create the linked list which is the collection of list nodes\n",
        "head = Node(1)\n",
        "node2 = Node(2)\n",
        "node3 = Node(3)\n",
        "node4 = Node(4)\n",
        "\n",
        "# Creating the linkage\n",
        "head.setnext(node2)\n",
        "node2.setnext(node3)\n",
        "node3.setnext(node4)"
      ],
      "metadata": {
        "id": "hp7QenKrQpyR"
      },
      "execution_count": null,
      "outputs": []
    },
    {
      "cell_type": "code",
      "source": [
        "# Traversing the linked list\n",
        "\n",
        "def traverse(head):\n",
        "  temp = head\n",
        "  while(temp):\n",
        "    print(temp.getdata(),end=\"->\")\n",
        "    temp = temp.getnext()\n",
        "\n",
        "traverse(head)"
      ],
      "metadata": {
        "colab": {
          "base_uri": "https://localhost:8080/"
        },
        "id": "meDEy-CrWdMS",
        "outputId": "de0855fb-eeda-4993-f0c1-e30f421b573a"
      },
      "execution_count": null,
      "outputs": [
        {
          "output_type": "stream",
          "name": "stdout",
          "text": [
            "1->2->3->4->"
          ]
        }
      ]
    },
    {
      "cell_type": "code",
      "source": [
        "# Traversing using recursion\n",
        "\n",
        "def traverseRec(head):\n",
        "  if head==None:\n",
        "    return\n",
        "  print(head.getdata(),end = \"->\")\n",
        "  traverseRec(head.getnext())\n",
        "\n",
        "traverseRec(head)"
      ],
      "metadata": {
        "colab": {
          "base_uri": "https://localhost:8080/"
        },
        "id": "JLs3KeSvXzaG",
        "outputId": "dcce51d5-5eb0-4299-f201-90e0fd7da7d7"
      },
      "execution_count": null,
      "outputs": [
        {
          "output_type": "stream",
          "name": "stdout",
          "text": [
            "1->2->3->4->"
          ]
        }
      ]
    },
    {
      "cell_type": "code",
      "source": [
        "# Find the length of the linked list\n",
        "\n",
        "def length(head):\n",
        "  temp = head\n",
        "  len = 0\n",
        "  while(temp):\n",
        "    len += 1\n",
        "    temp = temp.getnext()\n",
        "\n",
        "  return len\n",
        "\n",
        "length(head)"
      ],
      "metadata": {
        "colab": {
          "base_uri": "https://localhost:8080/"
        },
        "id": "ao7q-pnG-hFi",
        "outputId": "944471c1-ec48-4248-9d37-23b617619d4f"
      },
      "execution_count": null,
      "outputs": [
        {
          "output_type": "execute_result",
          "data": {
            "text/plain": [
              "4"
            ]
          },
          "metadata": {},
          "execution_count": 5
        }
      ]
    },
    {
      "cell_type": "code",
      "source": [
        "# Finding the length using the recursion\n",
        "\n",
        "def lengthRec(head):\n",
        "  if not head:\n",
        "    return 0\n",
        "  return 1 + lengthRec(head.getnext())\n",
        "\n",
        "lengthRec(head)\n"
      ],
      "metadata": {
        "colab": {
          "base_uri": "https://localhost:8080/"
        },
        "id": "2Mczg405_8dB",
        "outputId": "95226eec-db6f-42b0-f99c-d81c5f462803"
      },
      "execution_count": null,
      "outputs": [
        {
          "output_type": "execute_result",
          "data": {
            "text/plain": [
              "4"
            ]
          },
          "metadata": {},
          "execution_count": 6
        }
      ]
    },
    {
      "cell_type": "code",
      "source": [
        "def Insertnode(head,data,k):\n",
        "  # Step 1 : Check if k is valid\n",
        "  if (k<length(head) or k<0):\n",
        "    print(\"Argument passed k is not valid\")\n",
        "    return head\n",
        "\n",
        "  # Create new node for data\n",
        "  newnode = Node(data)\n",
        "\n",
        "  if (k==0):\n",
        "    # we need to insert at begining\n",
        "    # we need to update the head\n",
        "    newnode.setnext(head)\n",
        "    head = newnode\n",
        "\n",
        "  else:\n",
        "    # When not in begining\n",
        "    # we need to jump to previous node of the position\n",
        "    prev = head\n",
        "    i = 0\n",
        "    while (i<k-1):\n",
        "      prev = prev.getnext()\n",
        "      i+=1\n",
        "\n",
        "    # now prev will be one position ahead of k position\n",
        "    newnode.setnext(prev.getnext())\n",
        "    prev.setnext(newnode)\n",
        "  return head\n",
        "\n",
        "\n"
      ],
      "metadata": {
        "id": "foAzyl5CCC7P"
      },
      "execution_count": null,
      "outputs": []
    },
    {
      "cell_type": "code",
      "source": [
        "# Create the linked list which is the collection of list nodes\n",
        "head = Node(1)\n",
        "node2 = Node(2)\n",
        "node3 = Node(3)\n",
        "node4 = Node(4)\n",
        "\n",
        "# Creating the linkage\n",
        "head.setnext(node2)\n",
        "node2.setnext(node3)\n",
        "node3.setnext(node4)\n",
        "\n",
        "traverse(head)\n",
        "print()\n",
        "\n",
        "head = Insertnode(head,8,4)\n",
        "\n",
        "traverse(head)"
      ],
      "metadata": {
        "colab": {
          "base_uri": "https://localhost:8080/"
        },
        "id": "4KPDKgz3PPjl",
        "outputId": "ce8b4e8a-c882-4de8-b0c5-29abdadbb258"
      },
      "execution_count": null,
      "outputs": [
        {
          "output_type": "stream",
          "name": "stdout",
          "text": [
            "1->2->3->4->\n",
            "1->2->3->4->8->"
          ]
        }
      ]
    },
    {
      "cell_type": "code",
      "source": [
        "def DeleteNode(head,k):\n",
        "  # Check if k is valid or not\n",
        "  if (k<0 or k>=length(head) or not head):\n",
        "    return head\n",
        "\n",
        "  if (k==0):\n",
        "    head = head.getnext()\n",
        "    return head\n",
        "\n",
        "  else:\n",
        "    # First we have to get the position of one head of k th node\n",
        "    prev = head\n",
        "    i = 0\n",
        "    while (i<k-1):\n",
        "      prev = prev.getnext()\n",
        "      i += 1\n",
        "    # Now prev is one position ahead of kth node\n",
        "    prev.setnext(prev.getnext().getnext())\n",
        "  return head\n"
      ],
      "metadata": {
        "id": "dm49U_AZCrEs"
      },
      "execution_count": null,
      "outputs": []
    },
    {
      "cell_type": "code",
      "source": [
        "# This is for practice\n",
        "def insert_in_linked_list(head,data,k):\n",
        "  if (k<length(head) or k<0):\n",
        "    print(\"Argument k passed is not valid\")\n",
        "    return head\n",
        "\n",
        "  Newnode = Node(data)\n",
        "\n",
        "  if (k==0):\n",
        "    Newnode.setnext(head)\n",
        "    head = Newnode\n",
        "\n",
        "  else :\n",
        "    prev = head\n",
        "    i = 0\n",
        "    while (i<k-1):\n",
        "      prev = prev.getnext()\n",
        "      i += 1\n",
        "\n",
        "    Newnode.setnext(prev.getnext())\n",
        "    prev.setnext(Newnode)\n",
        "  return head\n",
        "\n",
        "head = Node(1)\n",
        "node2 = Node(2)\n",
        "node3 = Node(3)\n",
        "node4 = Node(4)\n",
        "\n",
        "# Creating the linkage\n",
        "head.setnext(node2)\n",
        "node2.setnext(node3)\n",
        "node3.setnext(node4)\n",
        "\n",
        "traverse(head)\n",
        "print()\n",
        "\n",
        "head = insert_in_linked_list(head,8,2)\n",
        "traverse(head)"
      ],
      "metadata": {
        "id": "-pBzUVtQCqoI",
        "colab": {
          "base_uri": "https://localhost:8080/"
        },
        "outputId": "4132a4f1-148b-4411-f57c-5b0806ebdfb9"
      },
      "execution_count": null,
      "outputs": [
        {
          "output_type": "stream",
          "name": "stdout",
          "text": [
            "1->2->3->4->\n",
            "Argument k passed is not valid\n",
            "1->2->3->4->"
          ]
        }
      ]
    },
    {
      "cell_type": "code",
      "source": [],
      "metadata": {
        "id": "5RlxsZXxCq7X"
      },
      "execution_count": null,
      "outputs": []
    },
    {
      "cell_type": "code",
      "source": [
        "# Create the linked list which is the collection of list nodes\n",
        "head = Node(1)\n",
        "node2 = Node(2)\n",
        "node3 = Node(3)\n",
        "node4 = Node(4)\n",
        "\n",
        "# Creating the linkage\n",
        "head.setnext(node2)\n",
        "node2.setnext(node3)\n",
        "node3.setnext(node4)\n",
        "\n",
        "traverse(head)\n",
        "print()\n",
        "\n",
        "head = DeleteNode(head,3)\n",
        "\n",
        "traverse(head)"
      ],
      "metadata": {
        "colab": {
          "base_uri": "https://localhost:8080/"
        },
        "outputId": "31b4ea7b-09f6-493b-f591-154a32ebd076",
        "id": "ZdVpr1bMYF_P"
      },
      "execution_count": null,
      "outputs": [
        {
          "output_type": "stream",
          "name": "stdout",
          "text": [
            "1->2->3->4->\n",
            "1->2->3->"
          ]
        }
      ]
    },
    {
      "cell_type": "code",
      "source": [
        "# Question to find middle element in linked list\n",
        "# Approach 1\n",
        "def find_middle(head):\n",
        "  middle = length(head)//2\n",
        "  i = 0\n",
        "  prev = head\n",
        "  while(i<middle):\n",
        "    prev = prev.getnext()\n",
        "    i+=1\n",
        "  return prev.getdata()\n",
        "\n",
        "\n",
        "# Create the linked list which is the collection of list nodes\n",
        "head = Node(1)\n",
        "node2 = Node(2)\n",
        "node3 = Node(3)\n",
        "node4 = Node(4)\n",
        "node5 = Node(5)\n",
        "\n",
        "# Creating the linkage\n",
        "head.setnext(node2)\n",
        "node2.setnext(node3)\n",
        "node3.setnext(node4)\n",
        "node4.setnext(node5)\n",
        "\n",
        "traverse(head)\n",
        "print()\n",
        "\n",
        "print(find_middle(head))"
      ],
      "metadata": {
        "id": "-TJDDFpN70nZ",
        "colab": {
          "base_uri": "https://localhost:8080/"
        },
        "outputId": "bc98b44d-e98b-4e17-af39-bf74594762fc"
      },
      "execution_count": null,
      "outputs": [
        {
          "output_type": "stream",
          "name": "stdout",
          "text": [
            "1->2->3->4->5->\n",
            "3\n"
          ]
        }
      ]
    },
    {
      "cell_type": "code",
      "source": [
        "# Approach 2 - Two pointer approach\n",
        "def middle_element(head):\n",
        "  slow = head\n",
        "  fast = head\n",
        "  while(fast != None and fast.getnext() != None):\n",
        "    slow = slow.getnext()\n",
        "    fast = fast.getnext().getnext()\n",
        "  return slow.getdata()\n",
        "traverse(head)\n",
        "print()\n",
        "middle_element(head)"
      ],
      "metadata": {
        "id": "xE-mVHNb70q3",
        "colab": {
          "base_uri": "https://localhost:8080/"
        },
        "outputId": "b9b37530-729f-417b-cd59-31df93b60b2a"
      },
      "execution_count": null,
      "outputs": [
        {
          "output_type": "stream",
          "name": "stdout",
          "text": [
            "1->2->3->4->5->\n"
          ]
        },
        {
          "output_type": "execute_result",
          "data": {
            "text/plain": [
              "3"
            ]
          },
          "metadata": {},
          "execution_count": 13
        }
      ]
    },
    {
      "cell_type": "code",
      "source": [
        "# Cycle detection algorithm\n",
        "def detect_cycle(head):\n",
        "  slow = head\n",
        "  fast = head\n",
        "  while(fast and fast.getnext()):\n",
        "    slow = slow.getnext()\n",
        "    fast = fast.getnext().getnext()\n",
        "\n",
        "    if fast and slow.getdata() == fast.getdata():\n",
        "      return True\n",
        "  return False\n",
        "\n",
        "\n",
        "\n",
        "# Create the linked list which is the collection of list nodes\n",
        "head = Node(1)\n",
        "node2 = Node(2)\n",
        "node3 = Node(3)\n",
        "node4 = Node(4)\n",
        "node5 = Node(5)\n",
        "\n",
        "# Creating the linkage\n",
        "head.setnext(node2)\n",
        "node2.setnext(node3)\n",
        "node3.setnext(node4)\n",
        "node4.setnext(node5)\n",
        "node5.setnext(node2)\n",
        "\n",
        "detect_cycle(head)\n"
      ],
      "metadata": {
        "id": "xQnDJZZv70uK",
        "colab": {
          "base_uri": "https://localhost:8080/"
        },
        "outputId": "f2af41a8-a30c-409f-f0fe-2cc0cd4c985d"
      },
      "execution_count": null,
      "outputs": [
        {
          "output_type": "execute_result",
          "data": {
            "text/plain": [
              "True"
            ]
          },
          "metadata": {},
          "execution_count": 14
        }
      ]
    },
    {
      "cell_type": "code",
      "source": [
        "# Find the Starting point of cycle\n",
        "def find_cycle_start(head):\n",
        "  slow = head\n",
        "  fast = head\n",
        "  is_cycle = False\n",
        "  while(fast and fast.getnext()):\n",
        "    slow = slow.getnext()\n",
        "    fast = fast.getnext().getnext()\n",
        "\n",
        "    if fast and slow.getdata() == fast.getdata():\n",
        "      is_cycle = True\n",
        "      break\n",
        "\n",
        "  if not is_cycle:\n",
        "    return None\n",
        "\n",
        "  temp = head\n",
        "  while(temp.getdata()!= slow.getdata()):\n",
        "    temp = temp.getnext()\n",
        "    slow = slow.getnext()\n",
        "\n",
        "  return temp.getdata()\n",
        "\n",
        "# Create the linked list which is the collection of list nodes\n",
        "head = Node(1)\n",
        "node2 = Node(2)\n",
        "node3 = Node(3)\n",
        "node4 = Node(4)\n",
        "node5 = Node(5)\n",
        "node6 = Node(6)\n",
        "\n",
        "# Creating the linkage\n",
        "head.setnext(node2)\n",
        "node2.setnext(node3)\n",
        "node3.setnext(node4)\n",
        "node4.setnext(node5)\n",
        "node5.setnext(node6)\n",
        "node6.setnext(node3)\n",
        "\n",
        "find_cycle_start(head)"
      ],
      "metadata": {
        "id": "B7gAACBy703q",
        "colab": {
          "base_uri": "https://localhost:8080/"
        },
        "outputId": "619d7109-38b2-4536-c1c1-6af8c64c4c6a"
      },
      "execution_count": null,
      "outputs": [
        {
          "output_type": "execute_result",
          "data": {
            "text/plain": [
              "3"
            ]
          },
          "metadata": {},
          "execution_count": 15
        }
      ]
    },
    {
      "cell_type": "code",
      "source": [
        "# Finding the cycle with duplicate nodes\n",
        "def find_cycle_with_duplicates(head):\n",
        "  slow = head\n",
        "  fast = head\n",
        "\n",
        "  while(fast and fast.getnext()):\n",
        "    slow = slow.getnext()\n",
        "    fast = fast.getnext().getnext()\n",
        "\n",
        "    if fast == slow:\n",
        "      return True\n",
        "\n",
        "  return False\n",
        "\n",
        "# Create the linked list which is the collection of list nodes\n",
        "head = Node(1)\n",
        "node2 = Node(2)\n",
        "node3 = Node(3)\n",
        "node4 = Node(4)\n",
        "node5 = Node(3)\n",
        "node6 = Node(6)\n",
        "\n",
        "# Creating the linkage\n",
        "head.setnext(node2)\n",
        "node2.setnext(node3)\n",
        "node3.setnext(node4)\n",
        "node4.setnext(node5)\n",
        "node5.setnext(node6)\n",
        "node6.setnext(node3)\n",
        "\n",
        "find_cycle_with_duplicates(head)"
      ],
      "metadata": {
        "colab": {
          "base_uri": "https://localhost:8080/"
        },
        "id": "NMN9QwPNKesV",
        "outputId": "5ba267e9-a276-41f0-8e75-7eeb1fb6259d"
      },
      "execution_count": null,
      "outputs": [
        {
          "output_type": "execute_result",
          "data": {
            "text/plain": [
              "True"
            ]
          },
          "metadata": {},
          "execution_count": 16
        }
      ]
    },
    {
      "cell_type": "code",
      "source": [
        "# Reverse the linked list\n",
        "\n",
        "def reverse_linkedlist(head):\n",
        "  current = head\n",
        "  prev = None\n",
        "\n",
        "\n",
        "  while(current!=None):\n",
        "    next_node = current.getnext()\n",
        "    current.setnext(prev)\n",
        "    prev = current\n",
        "    current = next_node\n",
        "    head = prev\n",
        "\n",
        "  return prev\n",
        "\n",
        "\n",
        "# Create the linked list which is the collection of list nodes\n",
        "head = Node(1)\n",
        "node2 = Node(2)\n",
        "node3 = Node(3)\n",
        "node4 = Node(4)\n",
        "node5 = Node(5)\n",
        "\n",
        "# Creating the linkage\n",
        "head.setnext(node2)\n",
        "node2.setnext(node3)\n",
        "node3.setnext(node4)\n",
        "node4.setnext(node5)\n",
        "\n",
        "traverse(head)\n",
        "print()\n",
        "head = reverse_linkedlist(head)\n",
        "\n",
        "traverse(head)\n"
      ],
      "metadata": {
        "id": "_aJIij9fKewi",
        "colab": {
          "base_uri": "https://localhost:8080/"
        },
        "outputId": "45b0e4d5-3b7a-4913-abcf-3f668cbc8c2b"
      },
      "execution_count": null,
      "outputs": [
        {
          "output_type": "stream",
          "name": "stdout",
          "text": [
            "1->2->3->4->5->\n",
            "5->4->3->2->1->"
          ]
        }
      ]
    },
    {
      "cell_type": "code",
      "source": [
        "# start the video at 1:55"
      ],
      "metadata": {
        "id": "qQbANtfKX8WK"
      },
      "execution_count": null,
      "outputs": []
    }
  ]
}