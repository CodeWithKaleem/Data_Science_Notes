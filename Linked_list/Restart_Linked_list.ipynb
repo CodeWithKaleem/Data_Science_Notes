{
  "nbformat": 4,
  "nbformat_minor": 0,
  "metadata": {
    "colab": {
      "provenance": []
    },
    "kernelspec": {
      "name": "python3",
      "display_name": "Python 3"
    },
    "language_info": {
      "name": "python"
    }
  },
  "cells": [
    {
      "cell_type": "code",
      "execution_count": null,
      "metadata": {
        "id": "SGUzJU2QQiqX"
      },
      "outputs": [],
      "source": [
        "# Creating the List node\n",
        "class Node :\n",
        "\n",
        "  def __init__(self,data,next=None):\n",
        "    self.data = data\n",
        "    self.next = next\n",
        "\n",
        "  # Method to set the data\n",
        "  def setdata(self,data):\n",
        "    self.data = data\n",
        "\n",
        "  # Method to get the data\n",
        "  def getdata(self):\n",
        "    return self.data\n",
        "\n",
        "  # Method to set the next\n",
        "  def setnext(self,next):\n",
        "    self.next = next\n",
        "\n",
        "  # Method to get the next\n",
        "  def getnext(self):\n",
        "    return self.next\n",
        "\n"
      ]
    },
    {
      "cell_type": "code",
      "source": [
        "# Create the linked list which is the collection of list nodes\n",
        "head = Node(1)\n",
        "node2 = Node(2)\n",
        "node3 = Node(3)\n",
        "node4 = Node(4)\n",
        "\n",
        "# Creating the linkage\n",
        "head.setnext(node2)\n",
        "node2.setnext(node3)\n",
        "node3.setnext(node4)"
      ],
      "metadata": {
        "id": "hp7QenKrQpyR"
      },
      "execution_count": null,
      "outputs": []
    },
    {
      "cell_type": "code",
      "source": [
        "# Traversing the linked list\n",
        "\n",
        "def traverse(head):\n",
        "  temp = head\n",
        "  while(temp):\n",
        "    print(temp.getdata(),end=\"->\")\n",
        "    temp = temp.getnext()\n",
        "\n",
        "traverse(head)"
      ],
      "metadata": {
        "colab": {
          "base_uri": "https://localhost:8080/"
        },
        "id": "meDEy-CrWdMS",
        "outputId": "7c41c8f9-7673-405a-df26-fd042f180757"
      },
      "execution_count": null,
      "outputs": [
        {
          "output_type": "stream",
          "name": "stdout",
          "text": [
            "1->2->3->4->"
          ]
        }
      ]
    },
    {
      "cell_type": "code",
      "source": [
        "# Traversing using recursion\n",
        "\n",
        "def traverseRec(head):\n",
        "  if head==None:\n",
        "    return\n",
        "  print(head.getdata(),end = \"->\")\n",
        "  traverseRec(head.getnext())\n",
        "\n",
        "traverseRec(head)"
      ],
      "metadata": {
        "colab": {
          "base_uri": "https://localhost:8080/"
        },
        "id": "JLs3KeSvXzaG",
        "outputId": "e7950d42-be14-4eac-cf33-325cc8fd550b"
      },
      "execution_count": null,
      "outputs": [
        {
          "output_type": "stream",
          "name": "stdout",
          "text": [
            "1->2->3->4->"
          ]
        }
      ]
    },
    {
      "cell_type": "code",
      "source": [
        "# Find the length of the linked list\n",
        "\n",
        "def length(head):\n",
        "  temp = head\n",
        "  len = 0\n",
        "  while(temp):\n",
        "    len += 1\n",
        "    temp = temp.getnext()\n",
        "\n",
        "  return len\n",
        "\n",
        "length(head)"
      ],
      "metadata": {
        "colab": {
          "base_uri": "https://localhost:8080/"
        },
        "id": "ao7q-pnG-hFi",
        "outputId": "d0ccd5f0-6739-4278-ed6d-553ce9dd7670"
      },
      "execution_count": null,
      "outputs": [
        {
          "output_type": "execute_result",
          "data": {
            "text/plain": [
              "4"
            ]
          },
          "metadata": {},
          "execution_count": 7
        }
      ]
    },
    {
      "cell_type": "code",
      "source": [
        "# Finding the length using the recursion\n",
        "\n",
        "def lengthRec(head):\n",
        "  if not head:\n",
        "    return 0\n",
        "  return 1 + lengthRec(head.getnext())\n",
        "\n",
        "lengthRec(head)\n"
      ],
      "metadata": {
        "colab": {
          "base_uri": "https://localhost:8080/"
        },
        "id": "2Mczg405_8dB",
        "outputId": "6dc478e0-2098-45ae-94b5-774fbc58b5ee"
      },
      "execution_count": null,
      "outputs": [
        {
          "output_type": "execute_result",
          "data": {
            "text/plain": [
              "4"
            ]
          },
          "metadata": {},
          "execution_count": 8
        }
      ]
    },
    {
      "cell_type": "code",
      "source": [
        "def Insertnode(head,data,k):\n",
        "  # Step 1 : Check if k is valid\n",
        "  if (k<length(head) or k<0):\n",
        "    print(\"Argument passed k is not valid\")\n",
        "    return head\n",
        "\n",
        "  # Create new node for data\n",
        "  newnode = Node(data)\n",
        "\n",
        "  if (k==0):\n",
        "    # we need to insert at begining\n",
        "    # we need to update the head\n",
        "    newnode.setnext(head)\n",
        "    head = newnode\n",
        "\n",
        "  else:\n",
        "    # When not in begining\n",
        "    # we need to jump to previous node of the position\n",
        "    prev = head\n",
        "    i = 0\n",
        "    while (i<k-1):\n",
        "      prev = prev.getnext()\n",
        "      i+=1\n",
        "\n",
        "    # now prev will be one position ahead of k position\n",
        "    newnode.setnext(prev.getnext())\n",
        "    prev.setnext(newnode)\n",
        "  return head\n",
        "\n",
        "\n"
      ],
      "metadata": {
        "id": "foAzyl5CCC7P"
      },
      "execution_count": null,
      "outputs": []
    },
    {
      "cell_type": "code",
      "source": [
        "# Create the linked list which is the collection of list nodes\n",
        "head = Node(1)\n",
        "node2 = Node(2)\n",
        "node3 = Node(3)\n",
        "node4 = Node(4)\n",
        "\n",
        "# Creating the linkage\n",
        "head.setnext(node2)\n",
        "node2.setnext(node3)\n",
        "node3.setnext(node4)\n",
        "\n",
        "traverse(head)\n",
        "print()\n",
        "\n",
        "head = Insertnode(head,8,4)\n",
        "\n",
        "traverse(head)"
      ],
      "metadata": {
        "colab": {
          "base_uri": "https://localhost:8080/"
        },
        "id": "4KPDKgz3PPjl",
        "outputId": "c4f5346e-aa07-4b6e-98eb-a2eb7473028d"
      },
      "execution_count": null,
      "outputs": [
        {
          "output_type": "stream",
          "name": "stdout",
          "text": [
            "1->2->3->4->\n",
            "1->2->3->4->8->"
          ]
        }
      ]
    },
    {
      "cell_type": "code",
      "source": [
        "# This is for practice\n",
        "def insert_in_linked_list(head,data,k):\n",
        "  if (k<length(head) or k<0):\n",
        "    print(\"Argument k passed is not valid\")\n",
        "    return head\n",
        "\n",
        "  Newnode = Node(data)\n",
        "\n",
        "  if (k==0):\n",
        "    Newnode.setnext(head)\n",
        "    head = Newnode\n",
        "\n",
        "  else :\n",
        "    prev = head\n",
        "    i = 0\n",
        "    while (i<k-1):\n",
        "      prev = prev.getnext()\n",
        "      i += 1\n",
        "\n",
        "    Newnode.setnext(prev.getnext())\n",
        "    prev.setnext(Newnode)\n",
        "  return head\n",
        "\n",
        "head = Node(1)\n",
        "node2 = Node(2)\n",
        "node3 = Node(3)\n",
        "node4 = Node(4)\n",
        "\n",
        "# Creating the linkage\n",
        "head.setnext(node2)\n",
        "node2.setnext(node3)\n",
        "node3.setnext(node4)\n",
        "\n",
        "traverse(head)\n",
        "print()\n",
        "\n",
        "head = insert_in_linked_list(head,8,2)\n",
        "traverse(head)"
      ],
      "metadata": {
        "id": "-pBzUVtQCqoI",
        "colab": {
          "base_uri": "https://localhost:8080/"
        },
        "outputId": "598b534e-bb3e-4d71-858b-19705ff73920"
      },
      "execution_count": null,
      "outputs": [
        {
          "output_type": "stream",
          "name": "stdout",
          "text": [
            "1->2->3->4->\n",
            "1->2->8->3->4->"
          ]
        }
      ]
    },
    {
      "cell_type": "code",
      "source": [
        "def DeleteNode(head,k):\n",
        "  # Check if k is valid or not\n",
        "  if (k<0 or k>=length(head) or not head):\n",
        "    return head\n",
        "\n",
        "  if (k==0):\n",
        "    head = head.getnext()\n",
        "    return head\n",
        "\n",
        "  else:\n",
        "    # First we have to get the position of one head of k th node\n",
        "    prev = head\n",
        "    i = 0\n",
        "    while (i<k-1):\n",
        "      prev = prev.getnext()\n",
        "      i += 1\n",
        "    # Now prev is one position ahead of kth node\n",
        "    prev.setnext(prev.getnext().getnext())\n",
        "  return head\n"
      ],
      "metadata": {
        "id": "dm49U_AZCrEs"
      },
      "execution_count": null,
      "outputs": []
    },
    {
      "cell_type": "code",
      "source": [],
      "metadata": {
        "id": "5RlxsZXxCq7X"
      },
      "execution_count": null,
      "outputs": []
    },
    {
      "cell_type": "code",
      "source": [
        "# Create the linked list which is the collection of list nodes\n",
        "head = Node(1)\n",
        "node2 = Node(2)\n",
        "node3 = Node(3)\n",
        "node4 = Node(4)\n",
        "\n",
        "# Creating the linkage\n",
        "head.setnext(node2)\n",
        "node2.setnext(node3)\n",
        "node3.setnext(node4)\n",
        "\n",
        "traverse(head)\n",
        "print()\n",
        "\n",
        "head = DeleteNode(head,3)\n",
        "\n",
        "traverse(head)"
      ],
      "metadata": {
        "colab": {
          "base_uri": "https://localhost:8080/"
        },
        "outputId": "e85e0dcb-0bd0-4776-be0c-ab33cffce8a8",
        "id": "ZdVpr1bMYF_P"
      },
      "execution_count": null,
      "outputs": [
        {
          "output_type": "stream",
          "name": "stdout",
          "text": [
            "1->2->3->4->\n",
            "1->2->3->"
          ]
        }
      ]
    },
    {
      "cell_type": "code",
      "source": [
        "# Question to find middle element in linked list\n",
        "def find_middle(head):\n",
        "  middle = length(head)//2\n",
        "  i = 0\n",
        "  prev = head\n",
        "  while(i<middle):\n",
        "    prev = prev.getnext()\n",
        "    i+=1\n",
        "  return prev.getdata()\n",
        "\n",
        "\n",
        "# Create the linked list which is the collection of list nodes\n",
        "head = Node(1)\n",
        "node2 = Node(2)\n",
        "node3 = Node(3)\n",
        "node4 = Node(4)\n",
        "node5 = Node(5)\n",
        "\n",
        "# Creating the linkage\n",
        "head.setnext(node2)\n",
        "node2.setnext(node3)\n",
        "node3.setnext(node4)\n",
        "node4.setnext(node5)\n",
        "\n",
        "traverse(head)\n",
        "print()\n",
        "\n",
        "print(find_middle(head))"
      ],
      "metadata": {
        "id": "-TJDDFpN70nZ",
        "colab": {
          "base_uri": "https://localhost:8080/"
        },
        "outputId": "0f01b6e7-1193-4cfc-fd83-fee4a1bb140e"
      },
      "execution_count": null,
      "outputs": [
        {
          "output_type": "stream",
          "name": "stdout",
          "text": [
            "1->2->3->4->5->\n",
            "3\n"
          ]
        }
      ]
    },
    {
      "cell_type": "code",
      "source": [
        "5//2"
      ],
      "metadata": {
        "id": "xE-mVHNb70q3",
        "colab": {
          "base_uri": "https://localhost:8080/"
        },
        "outputId": "19b21a36-a06c-4440-b3cf-5e208519ac4b"
      },
      "execution_count": null,
      "outputs": [
        {
          "output_type": "execute_result",
          "data": {
            "text/plain": [
              "2"
            ]
          },
          "metadata": {},
          "execution_count": 23
        }
      ]
    },
    {
      "cell_type": "code",
      "source": [],
      "metadata": {
        "id": "xQnDJZZv70uK"
      },
      "execution_count": null,
      "outputs": []
    },
    {
      "cell_type": "code",
      "source": [],
      "metadata": {
        "id": "0Y-WB7kP70xn"
      },
      "execution_count": null,
      "outputs": []
    },
    {
      "cell_type": "code",
      "source": [],
      "metadata": {
        "id": "B7gAACBy703q"
      },
      "execution_count": null,
      "outputs": []
    },
    {
      "cell_type": "code",
      "source": [
        "# start the video at 1:16"
      ],
      "metadata": {
        "id": "qQbANtfKX8WK"
      },
      "execution_count": null,
      "outputs": []
    }
  ]
}